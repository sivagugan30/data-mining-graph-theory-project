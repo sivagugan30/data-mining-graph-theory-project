{
 "cells": [
  {
   "cell_type": "code",
   "id": "initial_id",
   "metadata": {
    "collapsed": true,
    "ExecuteTime": {
     "end_time": "2025-04-16T19:24:21.974288Z",
     "start_time": "2025-04-16T19:24:21.971776Z"
    }
   },
   "source": [
    "import numpy as np\n",
    "import json\n",
    "from scipy.sparse import load_npz\n",
    "import os"
   ],
   "outputs": [],
   "execution_count": 23
  },
  {
   "metadata": {
    "ExecuteTime": {
     "end_time": "2025-04-16T19:24:22.518040Z",
     "start_time": "2025-04-16T19:24:22.515060Z"
    }
   },
   "cell_type": "code",
   "source": [
    "cwd = os.getcwd()\n",
    "\n",
    "print(cwd)"
   ],
   "id": "b6d4e2872ac6b073",
   "outputs": [
    {
     "name": "stdout",
     "output_type": "stream",
     "text": [
      "/Users/sivaguganjayachandran/PycharmProjects/data-mining-graph-theory-project\n"
     ]
    }
   ],
   "execution_count": 24
  },
  {
   "metadata": {
    "ExecuteTime": {
     "end_time": "2025-04-16T19:24:25.692076Z",
     "start_time": "2025-04-16T19:24:25.675746Z"
    }
   },
   "cell_type": "code",
   "outputs": [],
   "execution_count": 25,
   "source": [
    "# Load adjacency matrix (sparse)\n",
    "adj = load_npz('data/adj.npz')\n",
    "\n",
    "# Load node features\n",
    "features = np.load('data/features.npy')\n",
    "\n",
    "# Load labels\n",
    "labels = np.load('data/labels.npy')\n",
    "\n",
    "# Load train/test splits\n",
    "with open('data/splits.json', 'r') as f:\n",
    "    splits = json.load(f)\n",
    "\n",
    "# Access splits like this:\n",
    "idx_train = splits['idx_train']\n",
    "idx_test = splits['idx_test']"
   ],
   "id": "f296845307efc41d"
  },
  {
   "metadata": {
    "ExecuteTime": {
     "end_time": "2025-04-16T19:26:08.746563Z",
     "start_time": "2025-04-16T19:26:08.742405Z"
    }
   },
   "cell_type": "code",
   "source": "labels",
   "id": "3efa8787810d85d9",
   "outputs": [
    {
     "data": {
      "text/plain": [
       "array([2, 1, 3, 2, 6, 5, 2, 2, 6, 2, 2, 2, 2, 1, 6, 1, 2, 6, 2, 6, 2, 4,\n",
       "       2, 5, 6, 4, 4, 2, 4, 6, 3, 2, 3, 1, 4, 2, 1, 4, 3, 0, 1, 6, 2, 3,\n",
       "       3, 3, 2, 1, 6, 0, 3, 0, 2, 2, 2, 1, 2, 2, 1, 3, 2, 4, 6, 0, 1, 0,\n",
       "       4, 2, 2, 2, 1, 2, 6, 0, 6, 3, 3, 6, 0, 3, 1, 1, 6, 5, 6, 0, 4, 3,\n",
       "       1, 3, 2, 2, 2, 1, 6, 3, 2, 1, 2, 2, 6, 2, 1, 5, 3, 4, 2, 3, 1, 0,\n",
       "       3, 6, 6, 2, 2, 1, 2, 1, 2, 1, 3, 2, 2, 3, 0, 2, 4, 5, 5, 1, 2, 0,\n",
       "       6, 2, 2, 2, 4, 6, 2, 3, 2, 4, 2, 0, 2, 2, 6, 0, 2, 2, 1, 0, 4, 5,\n",
       "       3, 1, 3, 6, 4, 0, 0, 1, 3, 1, 6, 2, 2, 5, 2, 1, 5, 0, 2, 6, 6, 4,\n",
       "       6, 2, 4, 6, 6, 6, 3, 6, 4, 6, 2, 3, 0, 6, 5, 2, 0, 0, 4, 2, 2, 0,\n",
       "       6, 6, 1, 6, 1, 6, 1, 3, 6, 1, 2, 5, 2, 2, 2, 3, 6, 6, 4, 3, 2, 4,\n",
       "       3, 0, 1, 1, 2, 1, 6, 2, 4, 3, 3, 2, 3, 6, 3, 3, 2, 4, 3, 6, 2, 6,\n",
       "       3, 1, 2, 0, 2, 1, 2, 2, 0, 2, 3, 1, 5, 3, 6, 3, 3, 3, 3, 2, 2, 1,\n",
       "       5, 2, 3, 2, 6, 6, 6, 1, 5, 4, 1, 6, 1, 5, 2, 2, 4, 3, 2, 3, 2, 1,\n",
       "       3, 0, 1, 1, 3, 1, 3, 0, 0, 2, 4, 1, 6, 0, 2, 1, 2, 0, 2, 3, 4, 2,\n",
       "       4, 2, 3, 2, 2, 1, 6, 2, 2, 6, 4, 2, 4, 0, 2, 3, 2, 5, 0, 5, 0, 1,\n",
       "       2, 2, 1, 4, 6, 1, 1, 1, 5, 6, 2, 2, 6, 0, 2, 2, 4, 1, 5, 6, 0, 2,\n",
       "       1, 1, 1, 2, 6, 0, 0, 1, 5, 0, 3, 0, 1, 1, 3, 4, 0, 0, 2, 4, 4, 2,\n",
       "       2, 2, 2, 0, 2, 2, 2, 3, 0, 6, 1, 3, 1, 2, 2, 1, 3, 2, 2, 5, 2, 0,\n",
       "       0, 3, 1, 1, 2, 6, 3, 4, 2, 1, 2, 1, 5, 4, 0, 6, 2, 0, 0, 3, 2, 2,\n",
       "       2, 0, 3, 2, 3, 2, 4, 6, 5, 4, 6, 1, 3, 1, 2, 1, 3, 1, 2, 1, 2, 6,\n",
       "       2, 3, 2, 1, 5, 0, 4, 6, 1, 0, 2, 2, 3, 2, 1, 6, 6, 4, 3, 3, 2, 1,\n",
       "       2, 5, 5, 0, 4, 1, 6, 3, 3, 1, 3, 0, 3, 0, 1, 3, 1, 0, 6, 2, 6, 2,\n",
       "       2, 2, 0, 1, 2, 4, 0, 2, 3, 0, 3, 3], dtype=int8)"
      ]
     },
     "execution_count": 27,
     "metadata": {},
     "output_type": "execute_result"
    }
   ],
   "execution_count": 27
  },
  {
   "metadata": {
    "ExecuteTime": {
     "end_time": "2025-04-16T19:26:11.293086Z",
     "start_time": "2025-04-16T19:26:11.288736Z"
    }
   },
   "cell_type": "code",
   "source": "labels.shape",
   "id": "6203879ec78f8c57",
   "outputs": [
    {
     "data": {
      "text/plain": [
       "(496,)"
      ]
     },
     "execution_count": 28,
     "metadata": {},
     "output_type": "execute_result"
    }
   ],
   "execution_count": 28
  },
  {
   "metadata": {},
   "cell_type": "markdown",
   "source": [
    "Labels are provided only for the traning data. We have to predict the test dataset.\n",
    "\n",
    "Train/Test : 496/1984"
   ],
   "id": "1b6e19415ddb8ba6"
  },
  {
   "metadata": {
    "ExecuteTime": {
     "end_time": "2025-04-16T19:26:31.596948Z",
     "start_time": "2025-04-16T19:26:31.592009Z"
    }
   },
   "cell_type": "code",
   "source": "features",
   "id": "5ec273d45c4c460c",
   "outputs": [
    {
     "data": {
      "text/plain": [
       "array([[0, 0, 0, ..., 0, 0, 0],\n",
       "       [0, 0, 0, ..., 0, 0, 0],\n",
       "       [0, 0, 0, ..., 0, 0, 0],\n",
       "       ...,\n",
       "       [0, 0, 0, ..., 0, 0, 0],\n",
       "       [0, 0, 0, ..., 0, 0, 1],\n",
       "       [0, 0, 0, ..., 0, 0, 0]])"
      ]
     },
     "execution_count": 29,
     "metadata": {},
     "output_type": "execute_result"
    }
   ],
   "execution_count": 29
  },
  {
   "metadata": {
    "ExecuteTime": {
     "end_time": "2025-04-16T19:22:30.470913Z",
     "start_time": "2025-04-16T19:22:30.469002Z"
    }
   },
   "cell_type": "code",
   "source": "features.shape",
   "id": "fb853ef639fc1ab7",
   "outputs": [],
   "execution_count": null
  },
  {
   "metadata": {},
   "cell_type": "markdown",
   "source": "",
   "id": "68fad6f38628fb6a"
  },
  {
   "metadata": {
    "ExecuteTime": {
     "end_time": "2025-04-16T19:22:32.283934Z",
     "start_time": "2025-04-16T19:22:32.282297Z"
    }
   },
   "cell_type": "code",
   "source": "",
   "id": "68df7cf39f890cf2",
   "outputs": [],
   "execution_count": null
  },
  {
   "metadata": {},
   "cell_type": "code",
   "outputs": [],
   "execution_count": null,
   "source": "",
   "id": "2d58f7b880fe3e98"
  }
 ],
 "metadata": {
  "kernelspec": {
   "display_name": "Python 3",
   "language": "python",
   "name": "python3"
  },
  "language_info": {
   "codemirror_mode": {
    "name": "ipython",
    "version": 2
   },
   "file_extension": ".py",
   "mimetype": "text/x-python",
   "name": "python",
   "nbconvert_exporter": "python",
   "pygments_lexer": "ipython2",
   "version": "2.7.6"
  }
 },
 "nbformat": 4,
 "nbformat_minor": 5
}
